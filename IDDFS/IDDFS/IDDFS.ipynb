{
 "cells": [
  {
   "cell_type": "code",
   "execution_count": null,
   "metadata": {
    "pycharm": {
     "name": "#%%\n"
    }
   },
   "outputs": [],
   "source": []
  },
  {
   "cell_type": "markdown",
   "metadata": {},
   "source": [
    "DFS first traverses nodes going through one adjacent of root, then next adjacent. The problem with this approach is, if there is a node close to root, but not in first few subtrees explored by DFS, then DFS reaches that node very late. Also, DFS may not find shortest path to a node (in terms of number of edges).\n"
   ]
  },
  {
   "cell_type": "markdown",
   "metadata": {},
   "source": [
    "![IDDFS](./IDDFS.png)\n"
   ]
  },
  {
   "cell_type": "markdown",
   "metadata": {},
   "source": [
    "BFS goes level by level, but requires more space. The space required by DFS is O(d) where d is depth of tree, but space required by BFS is O(n) where n is number of nodes in tree (Why? Note that the last level of tree can have around n/2 nodes and second last level n/4 nodes and in BFS we need to have every level one by one in queue).\n"
   ]
  },
  {
   "cell_type": "markdown",
   "metadata": {},
   "source": [
    "IDDFS combines depth-first search’s space-efficiency and breadth-first search’s fast search (for nodes closer to root).\n"
   ]
  },
  {
   "cell_type": "markdown",
   "metadata": {},
   "source": [
    "How does IDDFS work?\n",
    "\n",
    "IDDFS calls DFS for different depths starting from an initial value. In every call, DFS is restricted from going beyond given depth. So basically we do DFS in a BFS fashion."
   ]
  },
  {
   "cell_type": "markdown",
   "metadata": {},
   "source": [
    "An important thing to note is, we visit top level nodes multiple times. The last (or max depth) level is visited once, second last level is visited twice, and so on. It may seem expensive, but it turns out to be not so costly, since in a tree most of the nodes are in the bottom level. So it does not matter much if the upper levels are visited multiple times."
   ]
  },
  {
   "cell_type": "code",
   "execution_count": 1,
   "metadata": {
    "pycharm": {
     "name": "#%%\n"
    }
   },
   "outputs": [
    {
     "name": "stdout",
     "output_type": "stream",
     "text": [
      "Target is reachable from source within max depth\n"
     ]
    }
   ],
   "source": [
    "# Python program to print DFS traversal from a given\n",
    "# given graph\n",
    "from collections import defaultdict\n",
    "\n",
    "# This class represents a directed graph using adjacency\n",
    "# list representation\n",
    "class Graph:\n",
    "\n",
    "    def __init__(self,vertices):\n",
    "\n",
    "        # No. of vertices\n",
    "        self.V = vertices\n",
    "\n",
    "        # default dictionary to store graph\n",
    "        self.graph = defaultdict(list)\n",
    "\n",
    "    # function to add an edge to graph\n",
    "    def addEdge(self,u,v):\n",
    "        self.graph[u].append(v)\n",
    "\n",
    "    # A function to perform a Depth-Limited search\n",
    "    # from given source 'src'\n",
    "    def DLS(self,src,target,maxDepth):\n",
    "\n",
    "        if src == target : return True\n",
    "\n",
    "        # If reached the maximum depth, stop recursing.\n",
    "        if maxDepth <= 0 : return False\n",
    "\n",
    "        # Recur for all the vertices adjacent to this vertex\n",
    "        for i in self.graph[src]:\n",
    "                if(self.DLS(i,target,maxDepth-1)):\n",
    "                    return True\n",
    "        return False\n",
    "\n",
    "    # IDDFS to search if target is reachable from v.\n",
    "    # It uses recursive DLS()\n",
    "    def IDDFS(self,src, target, maxDepth):\n",
    "\n",
    "        # Repeatedly depth-limit search till the\n",
    "        # maximum depth\n",
    "        for i in range(maxDepth):\n",
    "            if (self.DLS(src, target, i)):\n",
    "                return True\n",
    "        return False\n",
    "\n",
    "# Create a graph given in the above diagram\n",
    "g = Graph (7);\n",
    "g.addEdge(0, 1)\n",
    "g.addEdge(0, 2)\n",
    "g.addEdge(1, 3)\n",
    "g.addEdge(1, 4)\n",
    "g.addEdge(2, 5)\n",
    "g.addEdge(2, 6)\n",
    "\n",
    "target = 6; maxDepth = 3; src = 0\n",
    "\n",
    "if g.IDDFS(src, target, maxDepth) == True:\n",
    "    print (\"Target is reachable from source \" +\n",
    "        \"within max depth\")\n",
    "else :\n",
    "    print (\"Target is NOT reachable from source \" +\n",
    "        \"within max depth\")"
   ]
  },
  {
   "cell_type": "markdown",
   "metadata": {
    "pycharm": {
     "name": "#%% md\n"
    }
   },
   "source": [
    "![](./IDDFS2.png)"
   ]
  },
  {
   "cell_type": "markdown",
   "metadata": {},
   "source": [
    "![](./IDDFS3.png)"
   ]
  }
 ],
 "metadata": {
  "kernelspec": {
   "display_name": "Python 3",
   "language": "python",
   "name": "python3"
  },
  "language_info": {
   "codemirror_mode": {
    "name": "ipython",
    "version": 3
   },
   "file_extension": ".py",
   "mimetype": "text/x-python",
   "name": "python",
   "nbconvert_exporter": "python",
   "pygments_lexer": "ipython3",
   "version": "3.8.3"
  }
 },
 "nbformat": 4,
 "nbformat_minor": 1
}
